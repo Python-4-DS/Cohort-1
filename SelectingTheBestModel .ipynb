{
 "cells": [
  {
   "cell_type": "markdown",
   "metadata": {},
   "source": [
    "##Of core importance is the following question:\n",
    "if our estimator is underperforming, how should we move forward?\n",
    "\n",
    "• Use a more complicated/more flexible model\n",
    "• Use a less complicated/less flexible model\n",
    "• Gather more training samples\n",
    "• Gather more data to add features to each sample"
   ]
  }
 ],
 "metadata": {
  "kernelspec": {
   "display_name": "Python 3",
   "language": "python",
   "name": "python3"
  },
  "language_info": {
   "codemirror_mode": {
    "name": "ipython",
    "version": 3
   },
   "file_extension": ".py",
   "mimetype": "text/x-python",
   "name": "python",
   "nbconvert_exporter": "python",
   "pygments_lexer": "ipython3",
   "version": "3.7.1"
  }
 },
 "nbformat": 4,
 "nbformat_minor": 2
}
