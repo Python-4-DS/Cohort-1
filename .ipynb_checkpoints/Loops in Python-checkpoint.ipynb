{
 "cells": [
  {
   "cell_type": "markdown",
   "metadata": {},
   "source": [
    "# LOOPS IN PYTHON\n",
    "\n",
    "In programming, there are some commands that you will find yourself repeating over and over again. For instance, when one logs in to an account. To every individual who signs up, you will have to confirm whether they already have an account then sign them up to their account.\n",
    "\n",
    "Loops are basically statements that repeat themselves multiple times until a set condition is met. It can mean repeat every song in an album, every time the user successfully logs in, or as many times as you receive messages.\n",
    "\n",
    "Loops can repeat infinitely until you set a command or condition for them to stop. First we have the while loop. While repeats an action when the commands are met and the given condition is TRUE.Other loops include: for-in loop and switch-case loop. \n",
    "\n"
   ]
  },
  {
   "cell_type": "markdown",
   "metadata": {},
   "source": [
    "## While Loop"
   ]
  },
  {
   "cell_type": "code",
   "execution_count": 1,
   "metadata": {},
   "outputs": [
    {
     "name": "stdout",
     "output_type": "stream",
     "text": [
      "2\n",
      "3\n",
      "4\n",
      "5\n"
     ]
    }
   ],
   "source": [
    "#While loop\n",
    "a = 2\n",
    "while a*2 < 12:\n",
    "    print (a)\n",
    "    a += 1\n"
   ]
  },
  {
   "cell_type": "markdown",
   "metadata": {},
   "source": [
    "## For Loop"
   ]
  },
  {
   "cell_type": "code",
   "execution_count": 2,
   "metadata": {},
   "outputs": [
    {
     "name": "stdout",
     "output_type": "stream",
     "text": [
      "This is a number:  1\n",
      "This is a number:  2.34\n",
      "This is a number:  234\n",
      "This is a number:  345.4\n",
      "This is a number:  2.3\n",
      "This is a number:  23\n",
      "This is a number:  343\n"
     ]
    }
   ],
   "source": [
    "#For loop:\n",
    "numbers = [1, 2.34, 234, 345.4, 2.3, 23, 343]\n",
    "for y in numbers:\n",
    "    print('This is a number: ', y)"
   ]
  },
  {
   "cell_type": "code",
   "execution_count": 3,
   "metadata": {},
   "outputs": [
    {
     "name": "stdout",
     "output_type": "stream",
     "text": [
      "This is a character:  P\n",
      "This is a character:  y\n",
      "This is a character:  t\n",
      "This is a character:  h\n",
      "This is a character:  o\n",
      "This is a character:  n\n"
     ]
    }
   ],
   "source": [
    "#you can find the characters in a string:\n",
    "string = 'Python'\n",
    "for b in string:\n",
    "    print('This is a character: ', b)"
   ]
  },
  {
   "attachments": {},
   "cell_type": "markdown",
   "metadata": {},
   "source": [
    "## Control Statements\n",
    "There are control statements used to change the execution of the loop.They include(in python): break statement which terminates the loop, continue which skips the statement and restarts for the next loop, lastly there is pass which is a null statement when a statement is required syntactically but you do not want the code to execute."
   ]
  },
  {
   "cell_type": "markdown",
   "metadata": {},
   "source": [
    "## Break Statement\n",
    "which terminates the loop"
   ]
  },
  {
   "cell_type": "code",
   "execution_count": 4,
   "metadata": {},
   "outputs": [
    {
     "name": "stdout",
     "output_type": "stream",
     "text": [
      "2\n",
      "3\n",
      "4\n"
     ]
    }
   ],
   "source": [
    "#break statement in while loop\n",
    "a = 2\n",
    "while a*2 < 12:\n",
    "    print (a)\n",
    "    if a == 4:\n",
    "        break \n",
    "    a += 1"
   ]
  },
  {
   "cell_type": "code",
   "execution_count": 5,
   "metadata": {},
   "outputs": [
    {
     "name": "stdout",
     "output_type": "stream",
     "text": [
      "This is a number:  1\n",
      "This is a number:  2.34\n",
      "This is a number:  234\n",
      "This is a number:  345.4\n",
      "This is a number:  2.3\n"
     ]
    }
   ],
   "source": [
    "#Break statement in for loops\n",
    "for y in numbers:\n",
    "    print('This is a number: ', y)\n",
    "    if y == 2.3:\n",
    "        break"
   ]
  },
  {
   "cell_type": "markdown",
   "metadata": {},
   "source": [
    "## Continue Statement\n",
    "which skips the statement and restarts for the next loop"
   ]
  },
  {
   "cell_type": "code",
   "execution_count": 6,
   "metadata": {},
   "outputs": [
    {
     "name": "stdout",
     "output_type": "stream",
     "text": [
      "5\n",
      "6\n",
      "7\n",
      "8\n",
      "9\n",
      "10\n",
      "11\n",
      "12\n"
     ]
    }
   ],
   "source": [
    "#continue statement in while loop\n",
    "a = 2*2\n",
    "while a < 12:\n",
    "    a += 1\n",
    "    if a == 4:\n",
    "        continue\n",
    "    print (a)"
   ]
  },
  {
   "cell_type": "code",
   "execution_count": 7,
   "metadata": {},
   "outputs": [
    {
     "name": "stdout",
     "output_type": "stream",
     "text": [
      "This is a number:  1\n",
      "This is a number:  2.34\n",
      "This is a number:  234\n",
      "This is a number:  345.4\n",
      "This is a number:  23\n",
      "This is a number:  343\n"
     ]
    }
   ],
   "source": [
    "#continue statement in for loops\n",
    "for y in numbers:\n",
    "\n",
    "    if y == 2.3:\n",
    "        continue\n",
    "    print('This is a number: ', y)"
   ]
  },
  {
   "cell_type": "markdown",
   "metadata": {},
   "source": [
    "## Range() functions\n",
    "The range() function is used to indicate the integers contained within a specified group of integers. It shows the integers contained between the start and end integer."
   ]
  },
  {
   "cell_type": "code",
   "execution_count": 8,
   "metadata": {},
   "outputs": [
    {
     "name": "stdout",
     "output_type": "stream",
     "text": [
      "1\n",
      "2\n",
      "3\n",
      "4\n",
      "5\n",
      "6\n",
      "7\n",
      "8\n",
      "9\n",
      "10\n",
      "11\n",
      "12\n",
      "13\n",
      "14\n",
      "15\n",
      "16\n",
      "17\n",
      "18\n",
      "19\n"
     ]
    }
   ],
   "source": [
    "#The range() Function in for loops\n",
    "for c in range(1,20):\n",
    "    print(c)"
   ]
  },
  {
   "cell_type": "markdown",
   "metadata": {},
   "source": [
    "## Else in  For Loop\n",
    "The else keyword is used as to indicate what to do after a loop has ended"
   ]
  },
  {
   "cell_type": "code",
   "execution_count": 9,
   "metadata": {},
   "outputs": [
    {
     "name": "stdout",
     "output_type": "stream",
     "text": [
      "p\n",
      "e\n",
      "a\n",
      "c\n",
      "e\n",
      "f\n",
      "u\n",
      "l\n",
      "l\n",
      "y\n",
      "We should live in Peace\n"
     ]
    }
   ],
   "source": [
    "for n in 'peacefully':\n",
    "    print(n)\n",
    "else:\n",
    "    print('We should live in Peace')"
   ]
  },
  {
   "cell_type": "markdown",
   "metadata": {},
   "source": [
    "## Nested Loops\n",
    "Nested loops are generally loops found within loops.\n",
    "The outer loops triggers the execution of the inner loop."
   ]
  },
  {
   "cell_type": "code",
   "execution_count": 10,
   "metadata": {},
   "outputs": [
    {
     "name": "stdout",
     "output_type": "stream",
     "text": [
      "A   is it equivalent to?   80\n",
      "A   is it equivalent to?   70\n",
      "A   is it equivalent to?   60\n",
      "A   is it equivalent to?   50\n",
      "A   is it equivalent to?   40\n",
      "B   is it equivalent to?   80\n",
      "B   is it equivalent to?   70\n",
      "B   is it equivalent to?   60\n",
      "B   is it equivalent to?   50\n",
      "B   is it equivalent to?   40\n",
      "C   is it equivalent to?   80\n",
      "C   is it equivalent to?   70\n",
      "C   is it equivalent to?   60\n",
      "C   is it equivalent to?   50\n",
      "C   is it equivalent to?   40\n",
      "D   is it equivalent to?   80\n",
      "D   is it equivalent to?   70\n",
      "D   is it equivalent to?   60\n",
      "D   is it equivalent to?   50\n",
      "D   is it equivalent to?   40\n",
      "E   is it equivalent to?   80\n",
      "E   is it equivalent to?   70\n",
      "E   is it equivalent to?   60\n",
      "E   is it equivalent to?   50\n",
      "E   is it equivalent to?   40\n"
     ]
    }
   ],
   "source": [
    "Grade = ['A  ', 'B  ', 'C  ','D  ', 'E  ']\n",
    "Marks = [80, 70, 60, 50, 40]\n",
    "for g in Grade:\n",
    "    for m in Marks:\n",
    "        print(g, 'is it equivalent to?  ' , m)"
   ]
  },
  {
   "cell_type": "code",
   "execution_count": null,
   "metadata": {},
   "outputs": [],
   "source": []
  }
 ],
 "metadata": {
  "kernelspec": {
   "display_name": "Python 3",
   "language": "python",
   "name": "python3"
  },
  "language_info": {
   "codemirror_mode": {
    "name": "ipython",
    "version": 3
   },
   "file_extension": ".py",
   "mimetype": "text/x-python",
   "name": "python",
   "nbconvert_exporter": "python",
   "pygments_lexer": "ipython3",
   "version": "3.7.3"
  }
 },
 "nbformat": 4,
 "nbformat_minor": 2
}
