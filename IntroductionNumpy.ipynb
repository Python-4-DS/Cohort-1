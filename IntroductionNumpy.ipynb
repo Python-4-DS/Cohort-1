{
 "cells": [
  {
   "cell_type": "code",
   "execution_count": 1,
   "metadata": {},
   "outputs": [
    {
     "data": {
      "text/plain": [
       "'1.15.4'"
      ]
     },
     "execution_count": 1,
     "metadata": {},
     "output_type": "execute_result"
    }
   ],
   "source": [
    "import numpy as np\n",
    "np.__version__"
   ]
  },
  {
   "cell_type": "code",
   "execution_count": 2,
   "metadata": {},
   "outputs": [
    {
     "data": {
      "text/plain": [
       "[0, 1, 2, 3, 4, 5, 6, 7, 8, 9]"
      ]
     },
     "execution_count": 2,
     "metadata": {},
     "output_type": "execute_result"
    }
   ],
   "source": [
    "##list\n",
    "L = list(range(10))\n",
    "L"
   ]
  },
  {
   "cell_type": "code",
   "execution_count": 3,
   "metadata": {},
   "outputs": [
    {
     "data": {
      "text/plain": [
       "int"
      ]
     },
     "execution_count": 3,
     "metadata": {},
     "output_type": "execute_result"
    }
   ],
   "source": [
    "type(L[0])"
   ]
  },
  {
   "cell_type": "code",
   "execution_count": 4,
   "metadata": {},
   "outputs": [
    {
     "data": {
      "text/plain": [
       "str"
      ]
     },
     "execution_count": 4,
     "metadata": {},
     "output_type": "execute_result"
    }
   ],
   "source": [
    "# a list of strings\n",
    "L2 = [str(c) for c in L]\n",
    "L2\n",
    "type(L2[0])"
   ]
  },
  {
   "cell_type": "code",
   "execution_count": 5,
   "metadata": {},
   "outputs": [
    {
     "data": {
      "text/plain": [
       "[bool, str, float, int]"
      ]
     },
     "execution_count": 5,
     "metadata": {},
     "output_type": "execute_result"
    }
   ],
   "source": [
    "#heterogeneous lists\n",
    "L3 = [True, \"2\",3.0,4]\n",
    "[type(item) for item in L3]"
   ]
  },
  {
   "cell_type": "code",
   "execution_count": 1,
   "metadata": {},
   "outputs": [
    {
     "data": {
      "text/plain": [
       "array('i', [0, 1, 2, 3, 4, 5, 6, 7, 8, 9])"
      ]
     },
     "execution_count": 1,
     "metadata": {},
     "output_type": "execute_result"
    }
   ],
   "source": [
    "#Fixed Type Array in Python\n",
    "import array\n",
    "L= list(range(10))\n",
    "A =  array.array('i', L)\n",
    "A"
   ]
  },
  {
   "cell_type": "code",
   "execution_count": 7,
   "metadata": {},
   "outputs": [
    {
     "data": {
      "text/plain": [
       "array([[2, 3, 4],\n",
       "       [4, 5, 6],\n",
       "       [6, 7, 8]])"
      ]
     },
     "execution_count": 7,
     "metadata": {},
     "output_type": "execute_result"
    }
   ],
   "source": [
    "#creating a numoy array\n",
    "# * import numpy\n",
    "import numpy as np\n",
    "# create an array from python list\n",
    "# integer array\n",
    "np.array([1, 2, 3, 4, 5, 6]) \n",
    "# nb numpy is constrained to array that all contain the same type\n",
    "# if not numpy will upcast if possible\n",
    "np.array([3.124, 3, 4, 5])\n",
    "# to explicitly set the  data type, use dtype\n",
    "np.array([1, 2, 3, 4, 5], dtype='float32')\n",
    "## numpy array can be multidimensional\n",
    "## to initialize a multidimensional array using a list\n",
    "np.array([range(i, i + 3) for i in [2, 4, 6]])"
   ]
  },
  {
   "cell_type": "code",
   "execution_count": 28,
   "metadata": {},
   "outputs": [
    {
     "data": {
      "text/plain": [
       "array([1., 1., 1.])"
      ]
     },
     "execution_count": 28,
     "metadata": {},
     "output_type": "execute_result"
    }
   ],
   "source": [
    "# creating array from scratch using routines built into Numpy\n",
    "#a len 10 integer filled with zero\n",
    "np.zeros(10, dtype=int)\n",
    "np.ones((3,5), dtype = float)\n",
    "np.full((4, 4), 2)\n",
    "##creating an array with a linea sequence starting with 0 end wuth 20 stepping by 2\n",
    "np.arange(0, 20, 2)\n",
    "# evenly spaced\n",
    "np.linspace(0, 1, 5)\n",
    "# 3 *3 evenly spread btwn 0 -1 \n",
    "np.random.random((3, 3))\n",
    "#normaly distributed\n",
    "np.random.normal(0,10, (3, 3))\n",
    "#random integers\n",
    "np.random.randint(0, 10, (3, 3))\n",
    "#identity matrix\n",
    "np.eye(3)\n",
    "np.empty(3)"
   ]
  },
  {
   "cell_type": "raw",
   "metadata": {},
   "source": []
  },
  {
   "cell_type": "code",
   "execution_count": 30,
   "metadata": {},
   "outputs": [
    {
     "data": {
      "text/plain": [
       "array([0, 0, 0, 0, 0, 0, 0, 0, 0, 0], dtype=int16)"
      ]
     },
     "execution_count": 30,
     "metadata": {},
     "output_type": "execute_result"
    }
   ],
   "source": [
    "#STANDARD NUMPY DATA TYPES\n",
    "#to specify data types\n",
    "np.zeros(10, dtype='int16')\n",
    "np.zeros(10, dtype=np.int16)"
   ]
  },
  {
   "cell_type": "code",
   "execution_count": 44,
   "metadata": {},
   "outputs": [
    {
     "name": "stdout",
     "output_type": "stream",
     "text": [
      "[[3 5 2 4]\n",
      " [7 6 8 8]\n",
      " [1 6 7 7]]\n",
      "[[[8 1 5 9 8]\n",
      "  [9 4 3 0 3]\n",
      "  [5 0 2 3 8]\n",
      "  [1 3 3 3 7]]\n",
      "\n",
      " [[0 1 9 9 0]\n",
      "  [4 7 3 2 7]\n",
      "  [2 0 0 4 5]\n",
      "  [5 6 8 4 1]]\n",
      "\n",
      " [[4 9 8 1 1]\n",
      "  [7 9 9 3 6]\n",
      "  [7 2 0 3 5]\n",
      "  [9 4 4 6 4]]]\n",
      "x3 ndim:  3\n",
      "x3 shape: (3, 4, 5)\n",
      "x3 size:  60\n",
      "dtype: int32\n",
      "itemsize: 4 bytes\n",
      "nbytes: 240 bytes\n"
     ]
    }
   ],
   "source": [
    "##BASIC NUMPY ARRAY\n",
    "#niumpy array attribbutes\n",
    "np.random.seed(0) # seed for reproducibility\n",
    "\n",
    "# One-dimensional array\n",
    "x1 = np.random.randint(10, size=6) \n",
    "x1\n",
    "# Two-dimensional array\n",
    "x2 = np.random.randint(10, size=(3, 4)) \n",
    "print(x2)\n",
    "# Three-dimensional array\n",
    "x3 = np.random.randint(10, size=(3, 4,5)) \n",
    "print(x3)\n",
    "#dimension, shape, size of  array\n",
    "print(\"x3 ndim: \", x3.ndim)\n",
    "print(\"x3 shape:\", x3.shape)\n",
    "print(\"x3 size: \", x3.size)\n",
    "#data type\n",
    "print(\"dtype:\", x1.dtype)\n",
    "##size of element in array(itemsize) size of array\n",
    "print(\"itemsize:\", x3.itemsize, \"bytes\")\n",
    "print(\"nbytes:\", x3.nbytes, \"bytes\")"
   ]
  },
  {
   "cell_type": "code",
   "execution_count": 56,
   "metadata": {},
   "outputs": [
    {
     "data": {
      "text/plain": [
       "array([[3, 5, 2, 4],\n",
       "       [7, 6, 9, 8],\n",
       "       [1, 6, 7, 7]])"
      ]
     },
     "execution_count": 56,
     "metadata": {},
     "output_type": "execute_result"
    }
   ],
   "source": [
    "###array indexing\n",
    "x1\n",
    "#from the beginning\n",
    "x1[0]\n",
    "x1[5]\n",
    "#from the end\n",
    "x1[-1]\n",
    "#for multidimension\n",
    "x2\n",
    "#use comma separated tuple\n",
    "x2[0,3]\n",
    "x2[-2, -2] = 9\n",
    "x2\n",
    "# Numpy array has fixed type\n"
   ]
  },
  {
   "cell_type": "code",
   "execution_count": 75,
   "metadata": {},
   "outputs": [
    {
     "name": "stdout",
     "output_type": "stream",
     "text": [
      "[99  7  1]\n",
      "[99  5  2  4]\n",
      "[[99  5]\n",
      " [ 7  6]]\n",
      "[[99  5]\n",
      " [ 7  6]]\n",
      "[[99  5  2  4]\n",
      " [ 7  6  9  8]\n",
      " [ 1  6  7  7]]\n",
      "[[99  5]\n",
      " [ 7  6]]\n"
     ]
    }
   ],
   "source": [
    "#Array Slicing\n",
    "x = np.arange(10)\n",
    "x\n",
    "x[:5]\n",
    "x[5:]\n",
    "x[4:7]\n",
    "x[::2]\n",
    "x[1::2]\n",
    "\n",
    "#stop and start are swapped when we use negative\n",
    "x[::-1]\n",
    "x[5::-1]\n",
    "\n",
    "#multidimensional array\n",
    "x2\n",
    "x2[:2, :3]\n",
    "#recersed subarray\n",
    "x2[::-1, ::-1]\n",
    "\n",
    "#ACCESSING ROWS AND COLUMNS\n",
    "#first column\n",
    "print(x2[:, 0]) \n",
    "#first row\n",
    "print(x2[0, :])\n",
    "##subarray as no copy views\n",
    "x2_sub = x2[:2, :2]\n",
    "print(x2_sub)\n",
    "x2_sub[0,0] = 99\n",
    "print(x2_sub)\n",
    "print(x2)\n",
    "#creating copies\n",
    "x2_sub_copy = x2[:2, :2].copy()\n",
    "print(x2_sub_copy)\n"
   ]
  },
  {
   "cell_type": "code",
   "execution_count": 78,
   "metadata": {},
   "outputs": [
    {
     "data": {
      "text/plain": [
       "array([[1, 2, 3],\n",
       "       [4, 5, 6],\n",
       "       [7, 8, 9]])"
      ]
     },
     "execution_count": 78,
     "metadata": {},
     "output_type": "execute_result"
    }
   ],
   "source": [
    "#RESHAPING OF ARRAY\n",
    "#using the reshape() method\n",
    "grid = np.arange(1, 10).reshape((3,3))\n",
    "grid\n"
   ]
  },
  {
   "cell_type": "code",
   "execution_count": 100,
   "metadata": {},
   "outputs": [
    {
     "name": "stdout",
     "output_type": "stream",
     "text": [
      "[1 2 3] [99 99] [3 2 1]\n",
      "[[ 0  1  2  3]\n",
      " [ 4  5  6  7]\n",
      " [ 8  9 10 11]\n",
      " [12 13 14 15]]\n",
      "[[0 1 2 3]\n",
      " [4 5 6 7]] [[ 8  9 10 11]\n",
      " [12 13 14 15]]\n",
      "[[ 0  1]\n",
      " [ 4  5]\n",
      " [ 8  9]\n",
      " [12 13]] [[ 2  3]\n",
      " [ 6  7]\n",
      " [10 11]\n",
      " [14 15]]\n"
     ]
    }
   ],
   "source": [
    "#array Concatenation\n",
    "#np.concatenate(takes a tuple or list of array as its first argumennt), np.vstack and np.hstack\n",
    "x = np.array([1, 2, 3])\n",
    "y = np.array([3, 2, 1])\n",
    "np.concatenate([x, y])\n",
    "# more than two array\n",
    "z = [99,99,99]\n",
    "np.concatenate([x, y, z])\n",
    "## two dimensional array\n",
    "grid = np.array([[1,2,3], [4,5,6]])\n",
    "np.concatenate([grid, grid])\n",
    "##conc around the second axis\n",
    "np.concatenate([grid, grid], axis=1)\n",
    "\n",
    "###using vstack(vertical stack)\n",
    "np.vstack([x ,grid])\n",
    "#hstack(horizontal stack)\n",
    "y = np.array([[99],[99]])\n",
    "np.hstack([grid, y])\n",
    "\n",
    "##splitting arrays\n",
    "#np.split, np.hsplit, np.vsplit\n",
    "x = [1, 2, 3, 99, 99, 3, 2, 1]\n",
    "x1, x2, x3 = np.split(x, [3,5])\n",
    "print(x1, x2, x3)\n",
    "grid = np.arange(16).reshape((4, 4))\n",
    "print(grid)\n",
    "upper, lower = np.vsplit(grid, [2])\n",
    "print(upper, lower)\n",
    "left, right = np.hsplit(grid, [2])\n",
    "print(left, right)"
   ]
  }
 ],
 "metadata": {
  "kernelspec": {
   "display_name": "Python 3",
   "language": "python",
   "name": "python3"
  },
  "language_info": {
   "codemirror_mode": {
    "name": "ipython",
    "version": 3
   },
   "file_extension": ".py",
   "mimetype": "text/x-python",
   "name": "python",
   "nbconvert_exporter": "python",
   "pygments_lexer": "ipython3",
   "version": "3.7.1"
  }
 },
 "nbformat": 4,
 "nbformat_minor": 2
}
