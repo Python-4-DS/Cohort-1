{
 "cells": [
  {
   "cell_type": "markdown",
   "metadata": {},
   "source": [
    "# Kiva Loan Challenge"
   ]
  },
  {
   "cell_type": "markdown",
   "metadata": {},
   "source": [
    "The objective of the analysis below is t explore the dataset to gain in_dept knowledge on the characteristic \n",
    "of borrowers and understand their poverty level.\n"
   ]
  },
  {
   "cell_type": "code",
   "execution_count": 1,
   "metadata": {},
   "outputs": [],
   "source": [
    "#load packages\n",
    "import numpy as np\n",
    "import pandas as pd\n"
   ]
  },
  {
   "cell_type": "markdown",
   "metadata": {},
   "source": [
    "Load data and view the first and the last 5 rows"
   ]
  },
  {
   "cell_type": "code",
   "execution_count": 2,
   "metadata": {
    "scrolled": true
   },
   "outputs": [
    {
     "name": "stdout",
     "output_type": "stream",
     "text": [
      "       id  funded_amount  loan_amount             activity          sector  \\\n",
      "0  653051          300.0        300.0  Fruits & Vegetables            Food   \n",
      "1  653053          575.0        575.0             Rickshaw  Transportation   \n",
      "2  653068          150.0        150.0       Transportation  Transportation   \n",
      "3  653063          200.0        200.0           Embroidery            Arts   \n",
      "4  653084          400.0        400.0           Milk Sales            Food   \n",
      "\n",
      "                                                 use country_code   country  \\\n",
      "0            To buy seasonal, fresh fruits to sell.            PK  Pakistan   \n",
      "1  to repair and maintain the auto rickshaw used ...           PK  Pakistan   \n",
      "2  To repair their old cycle-van and buy another ...           IN     India   \n",
      "3  to purchase an embroidery machine and a variet...           PK  Pakistan   \n",
      "4                           to purchase one buffalo.           PK  Pakistan   \n",
      "\n",
      "         region currency  partner_id                posted_time  \\\n",
      "0        Lahore      PKR       247.0  2014-01-01 06:12:39+00:00   \n",
      "1        Lahore      PKR       247.0  2014-01-01 06:51:08+00:00   \n",
      "2     Maynaguri      INR       334.0  2014-01-01 09:58:07+00:00   \n",
      "3        Lahore      PKR       247.0  2014-01-01 08:03:11+00:00   \n",
      "4  Abdul Hakeem      PKR       245.0  2014-01-01 11:53:19+00:00   \n",
      "\n",
      "              disbursed_time                funded_time  term_in_months  \\\n",
      "0  2013-12-17 08:00:00+00:00  2014-01-02 10:06:32+00:00            12.0   \n",
      "1  2013-12-17 08:00:00+00:00  2014-01-02 09:17:23+00:00            11.0   \n",
      "2  2013-12-17 08:00:00+00:00  2014-01-01 16:01:36+00:00            43.0   \n",
      "3  2013-12-24 08:00:00+00:00  2014-01-01 13:00:00+00:00            11.0   \n",
      "4  2013-12-17 08:00:00+00:00  2014-01-01 19:18:51+00:00            14.0   \n",
      "\n",
      "   lender_count                          tags borrower_genders  \\\n",
      "0            12                           NaN           female   \n",
      "1            14                           NaN   female, female   \n",
      "2             6  user_favorite, user_favorite           female   \n",
      "3             8                           NaN           female   \n",
      "4            16                           NaN           female   \n",
      "\n",
      "  repayment_interval        date  \n",
      "0          irregular  2014-01-01  \n",
      "1          irregular  2014-01-01  \n",
      "2             bullet  2014-01-01  \n",
      "3          irregular  2014-01-01  \n",
      "4            monthly  2014-01-01  \n",
      "             id  funded_amount  loan_amount   activity         sector  \\\n",
      "671200  1340323            0.0         25.0  Livestock    Agriculture   \n",
      "671201  1340316           25.0         25.0  Livestock    Agriculture   \n",
      "671202  1340334            0.0         25.0      Games  Entertainment   \n",
      "671203  1340338            0.0         25.0  Livestock    Agriculture   \n",
      "671204  1340339            0.0         25.0  Livestock    Agriculture   \n",
      "\n",
      "                                                      use country_code  \\\n",
      "671200  [True, u'para compara: cemento, arenya y ladri...           PY   \n",
      "671201  [True, u'to start a turducken farm.'] - this l...           KE   \n",
      "671202                                                NaN           KE   \n",
      "671203  [True, u'to start a turducken farm.'] - this l...           KE   \n",
      "671204  [True, u'to start a turducken farm.'] - this l...           KE   \n",
      "\n",
      "         country      region currency  partner_id                posted_time  \\\n",
      "671200  Paraguay  Concepción      USD        58.0  2017-07-25 16:55:34+00:00   \n",
      "671201     Kenya         NaN      KES       138.0  2017-07-25 06:14:08+00:00   \n",
      "671202     Kenya         NaN      KES       138.0  2017-07-26 00:02:07+00:00   \n",
      "671203     Kenya         NaN      KES       138.0  2017-07-26 06:12:55+00:00   \n",
      "671204     Kenya         NaN      KES       138.0  2017-07-26 06:31:46+00:00   \n",
      "\n",
      "                   disbursed_time                funded_time  term_in_months  \\\n",
      "671200  2017-07-25 07:00:00+00:00                        NaN            13.0   \n",
      "671201  2017-07-24 07:00:00+00:00  2017-07-26 02:09:43+00:00            13.0   \n",
      "671202  2017-07-25 07:00:00+00:00                        NaN            13.0   \n",
      "671203  2017-07-25 07:00:00+00:00                        NaN            13.0   \n",
      "671204  2017-07-25 07:00:00+00:00                        NaN            13.0   \n",
      "\n",
      "        lender_count tags borrower_genders repayment_interval        date  \n",
      "671200             0  NaN           female            monthly  2017-07-25  \n",
      "671201             1  NaN           female            monthly  2017-07-25  \n",
      "671202             0  NaN              NaN            monthly  2017-07-26  \n",
      "671203             0  NaN           female            monthly  2017-07-26  \n",
      "671204             0  NaN           female            monthly  2017-07-26  \n"
     ]
    }
   ],
   "source": [
    "#import data\n",
    "kiva_loans = pd.read_csv(\"F:\\\\BOOKS\\\\PythonCohort1\\\\KivaData\\\\kiva_loans.csv\")\n",
    "#print(kiva_loans)\n",
    "print(kiva_loans.head())\n",
    "print(kiva_loans.tail())"
   ]
  },
  {
   "cell_type": "markdown",
   "metadata": {},
   "source": [
    " Missing data"
   ]
  },
  {
   "cell_type": "code",
   "execution_count": 3,
   "metadata": {},
   "outputs": [
    {
     "name": "stdout",
     "output_type": "stream",
     "text": [
      "id                         0\n",
      "funded_amount              0\n",
      "loan_amount                0\n",
      "activity                   0\n",
      "sector                     0\n",
      "use                     4232\n",
      "country_code               8\n",
      "country                    0\n",
      "region                 56800\n",
      "currency                   0\n",
      "partner_id             13507\n",
      "posted_time                0\n",
      "disbursed_time          2396\n",
      "funded_time            48331\n",
      "term_in_months             0\n",
      "lender_count               0\n",
      "tags                  171416\n",
      "borrower_genders        4221\n",
      "repayment_interval         0\n",
      "date                       0\n",
      "dtype: int64\n",
      "(423081, 20)\n"
     ]
    },
    {
     "data": {
      "text/plain": [
       "(671205, 20)"
      ]
     },
     "execution_count": 3,
     "metadata": {},
     "output_type": "execute_result"
    }
   ],
   "source": [
    "#Handling NullValues\n",
    "#how many null values per column\n",
    "print(kiva_loans.isnull().sum())\n",
    "\n",
    "#drop na and get the dim of new data sets\n",
    "nakiva_loan = kiva_loans.dropna()\n",
    "print(nakiva_loan.shape)\n",
    "\n",
    "#Replace missing Values\n",
    "kiva_loans[kiva_loans.notnull()].shape"
   ]
  },
  {
   "cell_type": "code",
   "execution_count": null,
   "metadata": {},
   "outputs": [],
   "source": [
    "The above table shows the total number of missing values in each column\n",
    "\n",
    "Dropping all rows with missing data will lead to lossing a total of 68142 row\n",
    "which is a suficient amount of data. Filling this values will lead to getting misleading info\n",
    "therefore we are going to use the available date\n"
   ]
  },
  {
   "cell_type": "code",
   "execution_count": 4,
   "metadata": {},
   "outputs": [
    {
     "name": "stdout",
     "output_type": "stream",
     "text": [
      "                 id  funded_amount    loan_amount     partner_id  \\\n",
      "count  6.712050e+05  671205.000000  671205.000000  657698.000000   \n",
      "mean   9.932486e+05     785.995061     842.397107     178.199616   \n",
      "std    1.966113e+05    1130.398941    1198.660073      94.247581   \n",
      "min    6.530470e+05       0.000000      25.000000       9.000000   \n",
      "25%    8.230720e+05     250.000000     275.000000     126.000000   \n",
      "50%    9.927800e+05     450.000000     500.000000     145.000000   \n",
      "75%    1.163653e+06     900.000000    1000.000000     204.000000   \n",
      "max    1.340339e+06  100000.000000  100000.000000     536.000000   \n",
      "\n",
      "       term_in_months   lender_count  \n",
      "count   671205.000000  671205.000000  \n",
      "mean        13.739022      20.590922  \n",
      "std          8.598919      28.459551  \n",
      "min          1.000000       0.000000  \n",
      "25%          8.000000       7.000000  \n",
      "50%         13.000000      13.000000  \n",
      "75%         14.000000      24.000000  \n",
      "max        158.000000    2986.000000  \n",
      "                      id  funded_amount  loan_amount  partner_id  \\\n",
      "id              1.000000      -0.049578    -0.027488    0.154787   \n",
      "funded_amount  -0.049578       1.000000     0.945044   -0.075276   \n",
      "loan_amount    -0.027488       0.945044     1.000000   -0.071251   \n",
      "partner_id      0.154787      -0.075276    -0.071251    1.000000   \n",
      "term_in_months -0.055832       0.149310     0.184795    0.094878   \n",
      "lender_count   -0.095418       0.849168     0.798697   -0.008575   \n",
      "\n",
      "                term_in_months  lender_count  \n",
      "id                   -0.055832     -0.095418  \n",
      "funded_amount         0.149310      0.849168  \n",
      "loan_amount           0.184795      0.798697  \n",
      "partner_id            0.094878     -0.008575  \n",
      "term_in_months        1.000000      0.227283  \n",
      "lender_count          0.227283      1.000000  \n"
     ]
    }
   ],
   "source": [
    "#A brief description of our data\n",
    "print(kiva_loans.describe())\n",
    "\n",
    "print(kiva_loans.corr())"
   ]
  },
  {
   "cell_type": "markdown",
   "metadata": {},
   "source": [
    "The first tables shows how our data is distributed\n",
    "-The mean of The amount that Kiva has given is $ 785.995061 with a standard deviatioon of 1130.398941\n",
    "-The min and max amount loan amount given is respectively $25, $100000\n",
    "-the max and minimun period in months that the borrowers were given to repay is 158 and on month respectively\n",
    "\n",
    "The second table shows the relationship of some of our variables\n",
    "If the value say r is close to 0 means ther is no relationship between variables. If r is positive it means that \n",
    "as ove variable gets larger the other het larger as well. If negative it means that as one gets larger the other gets smaller\n",
    "\n",
    "\n"
   ]
  },
  {
   "cell_type": "code",
   "execution_count": 5,
   "metadata": {
    "scrolled": false
   },
   "outputs": [
    {
     "name": "stdout",
     "output_type": "stream",
     "text": [
      "               funded_amount  loan_amount\n",
      "country                                  \n",
      "Philippines       54476375.0   55342225.0\n",
      "Kenya             32248405.0   34534300.0\n",
      "Peru              30394850.0   30867400.0\n",
      "Paraguay          29412700.0   29629075.0\n",
      "El Salvador       23357725.0   26603650.0\n",
      "United States     23158540.0   31496375.0\n",
      "Cambodia          18817100.0   19872700.0\n",
      "Bolivia           18276200.0   19843250.0\n",
      "Rwanda            15505600.0   16646300.0\n",
      "Ecuador           14598900.0   15000275.0\n",
      "                                  funded_amount  loan_amount\n",
      "country                                                     \n",
      "Chile                                   76250.0     122650.0\n",
      "Cote D'Ivoire                           50000.0      50000.0\n",
      "Saint Vincent and the Grenadines        49225.0      49225.0\n",
      "Namibia                                 32375.0      32375.0\n",
      "Bhutan                                  15625.0      20000.0\n",
      "Mauritania                              15000.0      15000.0\n",
      "Afghanistan                             14000.0      14000.0\n",
      "Vanuatu                                  9250.0       9250.0\n",
      "Guam                                      395.0       4300.0\n",
      "Virgin Islands                              0.0      10000.0\n"
     ]
    }
   ],
   "source": [
    "##Analysis\n",
    "#country\n",
    "# Create a per_country pivot table\n",
    "loans_country = pd.pivot_table(kiva_loans, index=['country'], values=['loan_amount', 'funded_amount'], aggfunc=sum)\n",
    "#print(loans_country)\n",
    "loans_country1 = loans_country.sort_values(by=['funded_amount'],ascending=False)\n",
    "print(loans_country1.head(10))\n",
    "print(loans_country1.tail(10))"
   ]
  },
  {
   "cell_type": "markdown",
   "metadata": {},
   "source": [
    "The above tables shows the total amount funded and given to the borrowers, in order of the countries that was given more money to the country that was given the least.\n",
    "Philippines and Kenya leads from the top while Guam and Virgin Islands got the least."
   ]
  },
  {
   "cell_type": "code",
   "execution_count": 6,
   "metadata": {
    "scrolled": false
   },
   "outputs": [
    {
     "name": "stdout",
     "output_type": "stream",
     "text": [
      "                   term_in_months                         \n",
      "repayment_interval         bullet irregular monthly weekly\n",
      "country                                                   \n",
      "Afghanistan                   2.0       NaN     NaN    NaN\n",
      "Albania                      23.0      26.0  1885.0    NaN\n",
      "Armenia                      43.0     170.0  8418.0    NaN\n",
      "Azerbaijan                    NaN      12.0  1933.0    NaN\n",
      "Belize                        NaN       NaN   125.0    NaN\n",
      "Benin                         1.0      40.0   456.0    NaN\n",
      "Bhutan                        NaN       2.0     NaN    NaN\n",
      "Bolivia                      39.0    1231.0  7536.0    NaN\n",
      "Brazil                       14.0     181.0    89.0    NaN\n",
      "Burkina Faso                184.0    1396.0   880.0    NaN\n"
     ]
    }
   ],
   "source": [
    "#country, amount, sector\n",
    "loans_repayment_interval = kiva_loans[['country','repayment_interval' ]]\n",
    "Country = pd.pivot_table(kiva_loans, index=['country'], columns=['repayment_interval'], values= ['term_in_months'], aggfunc='count')\n",
    "#values=['term_in_months' ],\n",
    "print(Country.head(10))\n",
    "\n"
   ]
  },
  {
   "cell_type": "code",
   "execution_count": null,
   "metadata": {},
   "outputs": [],
   "source": [
    "In the table above shows the average of time in month given countries are expected to repay their loans\n"
   ]
  },
  {
   "cell_type": "code",
   "execution_count": 7,
   "metadata": {
    "scrolled": false
   },
   "outputs": [
    {
     "name": "stdout",
     "output_type": "stream",
     "text": [
      "                    id\n",
      "sector                \n",
      "Agriculture     180302\n",
      "Food            136657\n",
      "Retail          124494\n",
      "Services         45140\n",
      "Personal Use     36385\n",
      "Housing          33731\n",
      "Clothing         32742\n",
      "Education        31013\n",
      "Transportation   15518\n",
      "Arts             12060\n",
      "Health            9223\n",
      "Construction      6268\n",
      "Manufacturing     6208\n",
      "Entertainment      830\n",
      "Wholesale          634\n"
     ]
    }
   ],
   "source": [
    "#Sector\n",
    "sector = kiva_loans.groupby('sector')[['id']].count()\n",
    "#Agricuture and food has the highest borrower\n",
    "#wholesale and Entertainment has the least\n",
    "print(sector.sort_values(by=['id'], ascending=False))\n"
   ]
  },
  {
   "cell_type": "code",
   "execution_count": 8,
   "metadata": {},
   "outputs": [
    {
     "name": "stdout",
     "output_type": "stream",
     "text": [
      "                     id\n",
      "activity               \n",
      "Adult Care            2\n",
      "Agriculture       27023\n",
      "Air Conditioning     36\n",
      "Animal Sales       9237\n",
      "Aquaculture         108\n",
      "Arts               1092\n",
      "Auto Repair        1336\n",
      "Bakery             3620\n",
      "Balut-Making         61\n",
      "Barber Shop         951\n",
      "                      id\n",
      "activity                \n",
      "Utilities            185\n",
      "Vehicle             1257\n",
      "Vehicle Repairs      615\n",
      "Veterinary Sales     198\n",
      "Waste Management     308\n",
      "Water Distribution   564\n",
      "Weaving             2961\n",
      "Wedding Expenses     405\n",
      "Well digging          42\n",
      "Wholesale            357\n"
     ]
    },
    {
     "data": {
      "text/plain": [
       "(163, 1)"
      ]
     },
     "execution_count": 8,
     "metadata": {},
     "output_type": "execute_result"
    }
   ],
   "source": [
    "loan_activity= Python4ds_cohort-1\n",
    "print(loan_activity.head(10))\n",
    "print(loan_activity.tail(10))\n",
    "loan_activity.shape"
   ]
  },
  {
   "cell_type": "code",
   "execution_count": null,
   "metadata": {},
   "outputs": [],
   "source": [
    "The above table groups our data into sectors and activities, \n",
    "It shows the frequecy at which each groups in this categories asks for loans\n",
    "Agriculture sector and the Wholesale being the highest and the least respectively.\n",
    "\n",
    "with a total of 163 activities Wedding Expenses, Well diggiing and weaving rarely borrows,\n",
    "Adult care, agreculture and Air conditioning tops on borrowing\n",
    "#"
   ]
  },
  {
   "cell_type": "code",
   "execution_count": 10,
   "metadata": {},
   "outputs": [
    {
     "data": {
      "text/html": [
       "<div>\n",
       "<style scoped>\n",
       "    .dataframe tbody tr th:only-of-type {\n",
       "        vertical-align: middle;\n",
       "    }\n",
       "\n",
       "    .dataframe tbody tr th {\n",
       "        vertical-align: top;\n",
       "    }\n",
       "\n",
       "    .dataframe thead th {\n",
       "        text-align: right;\n",
       "    }\n",
       "</style>\n",
       "<table border=\"1\" class=\"dataframe\">\n",
       "  <thead>\n",
       "    <tr style=\"text-align: right;\">\n",
       "      <th></th>\n",
       "      <th>loan_amount</th>\n",
       "      <th>funded_amount</th>\n",
       "    </tr>\n",
       "    <tr>\n",
       "      <th>sector</th>\n",
       "      <th></th>\n",
       "      <th></th>\n",
       "    </tr>\n",
       "  </thead>\n",
       "  <tbody>\n",
       "    <tr>\n",
       "      <th>Wholesale</th>\n",
       "      <td>995200.0</td>\n",
       "      <td>918900.0</td>\n",
       "    </tr>\n",
       "    <tr>\n",
       "      <th>Entertainment</th>\n",
       "      <td>1389150.0</td>\n",
       "      <td>1023095.0</td>\n",
       "    </tr>\n",
       "    <tr>\n",
       "      <th>Manufacturing</th>\n",
       "      <td>5447900.0</td>\n",
       "      <td>5356650.0</td>\n",
       "    </tr>\n",
       "    <tr>\n",
       "      <th>Construction</th>\n",
       "      <td>6695150.0</td>\n",
       "      <td>6321515.0</td>\n",
       "    </tr>\n",
       "    <tr>\n",
       "      <th>Health</th>\n",
       "      <td>9843400.0</td>\n",
       "      <td>9172250.0</td>\n",
       "    </tr>\n",
       "    <tr>\n",
       "      <th>Transportation</th>\n",
       "      <td>11066900.0</td>\n",
       "      <td>9842500.0</td>\n",
       "    </tr>\n",
       "    <tr>\n",
       "      <th>Arts</th>\n",
       "      <td>12240325.0</td>\n",
       "      <td>11821055.0</td>\n",
       "    </tr>\n",
       "    <tr>\n",
       "      <th>Personal Use</th>\n",
       "      <td>14955350.0</td>\n",
       "      <td>14189775.0</td>\n",
       "    </tr>\n",
       "    <tr>\n",
       "      <th>Housing</th>\n",
       "      <td>23663950.0</td>\n",
       "      <td>21377100.0</td>\n",
       "    </tr>\n",
       "    <tr>\n",
       "      <th>Education</th>\n",
       "      <td>30968525.0</td>\n",
       "      <td>30044920.0</td>\n",
       "    </tr>\n",
       "    <tr>\n",
       "      <th>Clothing</th>\n",
       "      <td>37300925.0</td>\n",
       "      <td>34805270.0</td>\n",
       "    </tr>\n",
       "    <tr>\n",
       "      <th>Services</th>\n",
       "      <td>48057450.0</td>\n",
       "      <td>42966085.0</td>\n",
       "    </tr>\n",
       "    <tr>\n",
       "      <th>Retail</th>\n",
       "      <td>98122900.0</td>\n",
       "      <td>90864855.0</td>\n",
       "    </tr>\n",
       "    <tr>\n",
       "      <th>Food</th>\n",
       "      <td>121606150.0</td>\n",
       "      <td>115089210.0</td>\n",
       "    </tr>\n",
       "    <tr>\n",
       "      <th>Agriculture</th>\n",
       "      <td>143067875.0</td>\n",
       "      <td>133770635.0</td>\n",
       "    </tr>\n",
       "  </tbody>\n",
       "</table>\n",
       "</div>"
      ],
      "text/plain": [
       "                loan_amount  funded_amount\n",
       "sector                                    \n",
       "Wholesale          995200.0       918900.0\n",
       "Entertainment     1389150.0      1023095.0\n",
       "Manufacturing     5447900.0      5356650.0\n",
       "Construction      6695150.0      6321515.0\n",
       "Health            9843400.0      9172250.0\n",
       "Transportation   11066900.0      9842500.0\n",
       "Arts             12240325.0     11821055.0\n",
       "Personal Use     14955350.0     14189775.0\n",
       "Housing          23663950.0     21377100.0\n",
       "Education        30968525.0     30044920.0\n",
       "Clothing         37300925.0     34805270.0\n",
       "Services         48057450.0     42966085.0\n",
       "Retail           98122900.0     90864855.0\n",
       "Food            121606150.0    115089210.0\n",
       "Agriculture     143067875.0    133770635.0"
      ]
     },
     "execution_count": 10,
     "metadata": {},
     "output_type": "execute_result"
    }
   ],
   "source": [
    "#A pivot table of Loan amount and funded amount\n",
    "sectorLoans = kiva_loans.groupby('sector')[['loan_amount', 'funded_amount']].sum()\n",
    "sectorLoans.sort_values(by=['loan_amount'])"
   ]
  },
  {
   "cell_type": "code",
   "execution_count": 11,
   "metadata": {},
   "outputs": [
    {
     "data": {
      "text/html": [
       "<div>\n",
       "<style scoped>\n",
       "    .dataframe tbody tr th:only-of-type {\n",
       "        vertical-align: middle;\n",
       "    }\n",
       "\n",
       "    .dataframe tbody tr th {\n",
       "        vertical-align: top;\n",
       "    }\n",
       "\n",
       "    .dataframe thead tr th {\n",
       "        text-align: left;\n",
       "    }\n",
       "\n",
       "    .dataframe thead tr:last-of-type th {\n",
       "        text-align: right;\n",
       "    }\n",
       "</style>\n",
       "<table border=\"1\" class=\"dataframe\">\n",
       "  <thead>\n",
       "    <tr>\n",
       "      <th></th>\n",
       "      <th colspan=\"4\" halign=\"left\">mean</th>\n",
       "    </tr>\n",
       "    <tr>\n",
       "      <th></th>\n",
       "      <th colspan=\"4\" halign=\"left\">term_in_months</th>\n",
       "    </tr>\n",
       "    <tr>\n",
       "      <th>repayment_interval</th>\n",
       "      <th>bullet</th>\n",
       "      <th>irregular</th>\n",
       "      <th>monthly</th>\n",
       "      <th>weekly</th>\n",
       "    </tr>\n",
       "    <tr>\n",
       "      <th>sector</th>\n",
       "      <th></th>\n",
       "      <th></th>\n",
       "      <th></th>\n",
       "      <th></th>\n",
       "    </tr>\n",
       "  </thead>\n",
       "  <tbody>\n",
       "    <tr>\n",
       "      <th>Agriculture</th>\n",
       "      <td>15.112163</td>\n",
       "      <td>11.156679</td>\n",
       "      <td>15.655357</td>\n",
       "      <td>3.410256</td>\n",
       "    </tr>\n",
       "    <tr>\n",
       "      <th>Arts</th>\n",
       "      <td>18.062373</td>\n",
       "      <td>9.724978</td>\n",
       "      <td>14.943377</td>\n",
       "      <td>4.200000</td>\n",
       "    </tr>\n",
       "    <tr>\n",
       "      <th>Clothing</th>\n",
       "      <td>22.337786</td>\n",
       "      <td>8.761561</td>\n",
       "      <td>14.056343</td>\n",
       "      <td>4.898551</td>\n",
       "    </tr>\n",
       "    <tr>\n",
       "      <th>Construction</th>\n",
       "      <td>26.857143</td>\n",
       "      <td>10.428018</td>\n",
       "      <td>16.367694</td>\n",
       "      <td>4.272727</td>\n",
       "    </tr>\n",
       "    <tr>\n",
       "      <th>Education</th>\n",
       "      <td>24.677472</td>\n",
       "      <td>29.778672</td>\n",
       "      <td>19.873602</td>\n",
       "      <td>NaN</td>\n",
       "    </tr>\n",
       "    <tr>\n",
       "      <th>Entertainment</th>\n",
       "      <td>22.535484</td>\n",
       "      <td>10.566372</td>\n",
       "      <td>18.530067</td>\n",
       "      <td>NaN</td>\n",
       "    </tr>\n",
       "    <tr>\n",
       "      <th>Food</th>\n",
       "      <td>21.767311</td>\n",
       "      <td>9.299602</td>\n",
       "      <td>13.925820</td>\n",
       "      <td>4.329897</td>\n",
       "    </tr>\n",
       "    <tr>\n",
       "      <th>Health</th>\n",
       "      <td>22.355072</td>\n",
       "      <td>23.166365</td>\n",
       "      <td>18.242682</td>\n",
       "      <td>6.307692</td>\n",
       "    </tr>\n",
       "    <tr>\n",
       "      <th>Housing</th>\n",
       "      <td>38.884091</td>\n",
       "      <td>24.035025</td>\n",
       "      <td>18.644262</td>\n",
       "      <td>NaN</td>\n",
       "    </tr>\n",
       "    <tr>\n",
       "      <th>Manufacturing</th>\n",
       "      <td>27.946785</td>\n",
       "      <td>9.522755</td>\n",
       "      <td>15.898433</td>\n",
       "      <td>NaN</td>\n",
       "    </tr>\n",
       "    <tr>\n",
       "      <th>Personal Use</th>\n",
       "      <td>14.268837</td>\n",
       "      <td>20.658339</td>\n",
       "      <td>12.202174</td>\n",
       "      <td>NaN</td>\n",
       "    </tr>\n",
       "    <tr>\n",
       "      <th>Retail</th>\n",
       "      <td>18.487854</td>\n",
       "      <td>8.884366</td>\n",
       "      <td>13.788398</td>\n",
       "      <td>4.185484</td>\n",
       "    </tr>\n",
       "    <tr>\n",
       "      <th>Services</th>\n",
       "      <td>20.607515</td>\n",
       "      <td>9.663958</td>\n",
       "      <td>16.246161</td>\n",
       "      <td>4.006536</td>\n",
       "    </tr>\n",
       "    <tr>\n",
       "      <th>Transportation</th>\n",
       "      <td>28.131707</td>\n",
       "      <td>9.830757</td>\n",
       "      <td>15.380624</td>\n",
       "      <td>4.166667</td>\n",
       "    </tr>\n",
       "    <tr>\n",
       "      <th>Wholesale</th>\n",
       "      <td>19.928571</td>\n",
       "      <td>9.780488</td>\n",
       "      <td>15.966184</td>\n",
       "      <td>NaN</td>\n",
       "    </tr>\n",
       "  </tbody>\n",
       "</table>\n",
       "</div>"
      ],
      "text/plain": [
       "                             mean                                \n",
       "                   term_in_months                                \n",
       "repayment_interval         bullet  irregular    monthly    weekly\n",
       "sector                                                           \n",
       "Agriculture             15.112163  11.156679  15.655357  3.410256\n",
       "Arts                    18.062373   9.724978  14.943377  4.200000\n",
       "Clothing                22.337786   8.761561  14.056343  4.898551\n",
       "Construction            26.857143  10.428018  16.367694  4.272727\n",
       "Education               24.677472  29.778672  19.873602       NaN\n",
       "Entertainment           22.535484  10.566372  18.530067       NaN\n",
       "Food                    21.767311   9.299602  13.925820  4.329897\n",
       "Health                  22.355072  23.166365  18.242682  6.307692\n",
       "Housing                 38.884091  24.035025  18.644262       NaN\n",
       "Manufacturing           27.946785   9.522755  15.898433       NaN\n",
       "Personal Use            14.268837  20.658339  12.202174       NaN\n",
       "Retail                  18.487854   8.884366  13.788398  4.185484\n",
       "Services                20.607515   9.663958  16.246161  4.006536\n",
       "Transportation          28.131707   9.830757  15.380624  4.166667\n",
       "Wholesale               19.928571   9.780488  15.966184       NaN"
      ]
     },
     "execution_count": 11,
     "metadata": {},
     "output_type": "execute_result"
    }
   ],
   "source": [
    "# group by average time  in months by sector and repayment intervals \n",
    "pd.pivot_table(kiva_loans, index=['sector'], columns=['repayment_interval'], values=['term_in_months' ], aggfunc=[np.mean])"
   ]
  },
  {
   "cell_type": "code",
   "execution_count": 12,
   "metadata": {},
   "outputs": [
    {
     "name": "stderr",
     "output_type": "stream",
     "text": [
      "C:\\Users\\margaretm\\AppData\\Local\\Continuum\\anaconda3\\lib\\site-packages\\ipykernel_launcher.py:6: SettingWithCopyWarning: \n",
      "A value is trying to be set on a copy of a slice from a DataFrame.\n",
      "Try using .loc[row_indexer,col_indexer] = value instead\n",
      "\n",
      "See the caveats in the documentation: http://pandas.pydata.org/pandas-docs/stable/indexing.html#indexing-view-versus-copy\n",
      "  \n"
     ]
    },
    {
     "data": {
      "text/plain": [
       "<matplotlib.axes._subplots.AxesSubplot at 0x16192d1e320>"
      ]
     },
     "execution_count": 12,
     "metadata": {},
     "output_type": "execute_result"
    },
    {
     "data": {
      "image/png": "[encoded data removed]",
      "text/plain": [
       "<Figure size 432x288 with 1 Axes>"
      ]
     },
     "metadata": {},
     "output_type": "display_data"
    }
   ],
   "source": [
    "##A trend visualization of Amount borrowed since 2014 to 2017\n",
    "%matplotlib inline\n",
    "import matplotlib.pyplot as plt\n",
    "import seaborn; seaborn.set()\n",
    "Date_Amount = kiva_loans[[\"date\",\"loan_amount\"]]\n",
    "Date_Amount['date'] = pd.to_datetime(Date_Amount['date'])\n",
    "Date_Amount.index = Date_Amount['date']\n",
    "Date_Amount.head()\n",
    "df = Date_Amount['loan_amount']\n",
    "newdf = df.resample('M').sum()\n",
    "newdf.plot()"
   ]
  }
 ],
 "metadata": {
  "kernelspec": {
   "display_name": "Python 3",
   "language": "python",
   "name": "python3"
  },
  "language_info": {
   "codemirror_mode": {
    "name": "ipython",
    "version": 3
   },
   "file_extension": ".py",
   "mimetype": "text/x-python",
   "name": "python",
   "nbconvert_exporter": "python",
   "pygments_lexer": "ipython3",
   "version": "3.7.1"
  }
 },
 "nbformat": 4,
 "nbformat_minor": 2
}
