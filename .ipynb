{
 "cells": [
  {
   "cell_type": "code",
   "execution_count": 1,
   "metadata": {},
   "outputs": [
    {
     "name": "stdout",
     "output_type": "stream",
     "text": [
      "1 square is 1\n",
      "2 square is 4\n",
      "3 square is 9\n"
     ]
    }
   ],
   "source": [
    "#file myscript.py\n",
    "def square(x):\n",
    "    \"\"\"Square a number\"\"\"\n",
    "    return x ** 2\n",
    "for N in range(1, 4):\n",
    "    print(N, \"square is\", square(N))"
   ]
  },
  {
   "cell_type": "code",
   "execution_count": 2,
   "metadata": {},
   "outputs": [
    {
     "name": "stderr",
     "output_type": "stream",
     "text": [
      "ERROR:root:File `'myscript.py'` not found.\n"
     ]
    }
   ],
   "source": [
    "%run myscript.py"
   ]
  },
  {
   "cell_type": "code",
   "execution_count": 3,
   "metadata": {},
   "outputs": [
    {
     "name": "stderr",
     "output_type": "stream",
     "text": [
      "ERROR:root:File `'Kmean.py'` not found.\n"
     ]
    }
   ],
   "source": [
    "%run Kmean.py\n"
   ]
  },
  {
   "cell_type": "code",
   "execution_count": 4,
   "metadata": {},
   "outputs": [
    {
     "data": {
      "text/plain": [
       "25"
      ]
     },
     "execution_count": 4,
     "metadata": {},
     "output_type": "execute_result"
    }
   ],
   "source": [
    "square(5)"
   ]
  },
  {
   "cell_type": "code",
   "execution_count": 8,
   "metadata": {},
   "outputs": [
    {
     "name": "stdout",
     "output_type": "stream",
     "text": [
      "649 µs ± 63.3 µs per loop (mean ± std. dev. of 7 runs, 1000 loops each)\n"
     ]
    }
   ],
   "source": [
    "%timeit L = [n ** 2 for n in range(1000)]"
   ]
  },
  {
   "cell_type": "code",
   "execution_count": 10,
   "metadata": {},
   "outputs": [
    {
     "name": "stdout",
     "output_type": "stream",
     "text": [
      "634 µs ± 27.4 µs per loop (mean ± std. dev. of 7 runs, 1000 loops each)\n"
     ]
    }
   ],
   "source": [
    "%%timeit\n",
    "\n",
    "L = []\n",
    "for n in range(1000):\n",
    "    L.append(n ** 2)"
   ]
  },
  {
   "cell_type": "code",
   "execution_count": 13,
   "metadata": {},
   "outputs": [
    {
     "data": {
      "text/plain": [
       "-0.4161468365471424"
      ]
     },
     "execution_count": 13,
     "metadata": {},
     "output_type": "execute_result"
    }
   ],
   "source": [
    "import math\n"
   ]
  },
  {
   "cell_type": "code",
   "execution_count": 14,
   "metadata": {},
   "outputs": [
    {
     "data": {
      "text/plain": [
       "0.9092974268256817"
      ]
     },
     "execution_count": 14,
     "metadata": {},
     "output_type": "execute_result"
    }
   ],
   "source": [
    "math.sin(2)"
   ]
  },
  {
   "cell_type": "code",
   "execution_count": 17,
   "metadata": {},
   "outputs": [
    {
     "name": "stdout",
     "output_type": "stream",
     "text": [
      "221 ns ± 22.6 ns per loop (mean ± std. dev. of 7 runs, 1000000 loops each)\n"
     ]
    }
   ],
   "source": [
    "%timeit math.cos(2)"
   ]
  },
  {
   "cell_type": "code",
   "execution_count": 18,
   "metadata": {},
   "outputs": [
    {
     "name": "stdout",
     "output_type": "stream",
     "text": [
      "['', '#file myscript.py\\ndef square(x):\\n    \"\"\"Square a number\"\"\"\\n    return x ** 2\\nfor N in range(1, 4):\\n    print(N, \"square is\", square(N))', \"get_ipython().run_line_magic('run', 'myscript.py')\", \"get_ipython().run_line_magic('run', 'Kmean.py')\", 'square(5)', '# time it L = [n ** 2 for n in range(1000)]', '# time it L = [n ** 2 for n in range(1000)]', \"get_ipython().run_line_magic('time', 'it L = [n ** 2 for n in range(1000)]')\", \"get_ipython().run_line_magic('timeit', 'L = [n ** 2 for n in range(1000)]')\", \"get_ipython().run_cell_magic('timeit', '', '\\\\nL = []\\\\nfor n in range(1000):\\\\n    L.append(n ** 2)\\\\n')\", \"get_ipython().run_cell_magic('timeit', '', '\\\\nL = []\\\\nfor n in range(1000):\\\\n    L.append(n ** 2)\\\\n')\", 'import math\\nmath.sin(2)\\nmath.cos(2)', 'import math\\nmath.sin(2)\\nmath.cos(2)', 'import math\\nmath.sin(2)\\nmath.cos(2)', 'math.sin(2)', 'math.cos(2)', \"get_ipython().run_line_magic('', 'timeit math.cos(2)')\", \"get_ipython().run_line_magic('timeit', 'math.cos(2)')\", 'print(In)']\n"
     ]
    }
   ],
   "source": [
    "print(In)"
   ]
  },
  {
   "cell_type": "code",
   "execution_count": 19,
   "metadata": {},
   "outputs": [
    {
     "name": "stdout",
     "output_type": "stream",
     "text": [
      "{4: 25, 11: -0.4161468365471424, 12: -0.4161468365471424, 13: -0.4161468365471424, 14: 0.9092974268256817, 15: -0.4161468365471424}\n"
     ]
    }
   ],
   "source": [
    "print(Out)"
   ]
  },
  {
   "cell_type": "code",
   "execution_count": 20,
   "metadata": {},
   "outputs": [
    {
     "name": "stdout",
     "output_type": "stream",
     "text": [
      "-0.4161468365471424\n"
     ]
    }
   ],
   "source": [
    "print(_)"
   ]
  },
  {
   "cell_type": "code",
   "execution_count": 21,
   "metadata": {},
   "outputs": [
    {
     "name": "stdout",
     "output_type": "stream",
     "text": [
      "0.9092974268256817\n"
     ]
    }
   ],
   "source": [
    "print(__)"
   ]
  },
  {
   "cell_type": "code",
   "execution_count": 22,
   "metadata": {},
   "outputs": [
    {
     "name": "stdout",
     "output_type": "stream",
     "text": [
      "-0.4161468365471424\n"
     ]
    }
   ],
   "source": [
    "print(___)"
   ]
  },
  {
   "cell_type": "code",
   "execution_count": 23,
   "metadata": {},
   "outputs": [
    {
     "name": "stdout",
     "output_type": "stream",
     "text": [
      "-0.4161468365471424 0.9092974268256817 -0.4161468365471424\n"
     ]
    }
   ],
   "source": [
    "print(_,__,___)"
   ]
  },
  {
   "cell_type": "code",
   "execution_count": 24,
   "metadata": {},
   "outputs": [
    {
     "data": {
      "text/plain": [
       "0.4931505902785393"
      ]
     },
     "execution_count": 24,
     "metadata": {},
     "output_type": "execute_result"
    }
   ],
   "source": [
    "math.sin(2) + math.cos(2)"
   ]
  },
  {
   "cell_type": "code",
   "execution_count": 25,
   "metadata": {},
   "outputs": [
    {
     "data": {
      "text/plain": [
       "True"
      ]
     },
     "execution_count": 25,
     "metadata": {},
     "output_type": "execute_result"
    }
   ],
   "source": [
    "24 in Out"
   ]
  },
  {
   "cell_type": "code",
   "execution_count": 28,
   "metadata": {},
   "outputs": [
    {
     "name": "stdout",
     "output_type": "stream",
     "text": [
      "   1:\n",
      "#file myscript.py\n",
      "def square(x):\n",
      "    \"\"\"Square a number\"\"\"\n",
      "    return x ** 2\n",
      "for N in range(1, 4):\n",
      "    print(N, \"square is\", square(N))\n",
      "   2: %run myscript.py\n",
      "   3: %run Kmean.py\n",
      "   4: square(5)\n",
      "   5: # time it L = [n ** 2 for n in range(1000)]\n",
      "   6: # time it L = [n ** 2 for n in range(1000)]\n",
      "   7: %time it L = [n ** 2 for n in range(1000)]\n",
      "   8: %timeit L = [n ** 2 for n in range(1000)]\n",
      "   9:\n",
      "%%timeit\n",
      "\n",
      "L = []\n",
      "for n in range(1000):\n",
      "    L.append(n ** 2)\n",
      "  10:\n",
      "%%timeit\n",
      "\n",
      "L = []\n",
      "for n in range(1000):\n",
      "    L.append(n ** 2)\n",
      "  11:\n",
      "import math\n",
      "math.sin(2)\n",
      "math.cos(2)\n",
      "  12:\n",
      "import math\n",
      "math.sin(2)\n",
      "math.cos(2)\n",
      "  13:\n",
      "import math\n",
      "math.sin(2)\n",
      "math.cos(2)\n",
      "  14: math.sin(2)\n",
      "  15: math.cos(2)\n",
      "  16: % timeit math.cos(2)\n",
      "  17: %timeit math.cos(2)\n",
      "  18: print(In)\n",
      "  19: print(Out)\n",
      "  20: print(_)\n",
      "  21: print(__)\n",
      "  22: print(___)\n",
      "  23: print(_,__,___)\n",
      "  24: math.sin(2) + math.cos(2)\n"
     ]
    }
   ],
   "source": [
    "%history -n 1-24"
   ]
  }
 ],
 "metadata": {
  "kernelspec": {
   "display_name": "Python 3",
   "language": "python",
   "name": "python3"
  },
  "language_info": {
   "codemirror_mode": {
    "name": "ipython",
    "version": 3
   },
   "file_extension": ".py",
   "mimetype": "text/x-python",
   "name": "python",
   "nbconvert_exporter": "python",
   "pygments_lexer": "ipython3",
   "version": "3.6.3"
  }
 },
 "nbformat": 4,
 "nbformat_minor": 2
}
