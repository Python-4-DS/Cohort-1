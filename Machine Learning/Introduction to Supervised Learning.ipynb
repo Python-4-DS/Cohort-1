{
 "cells": [
  {
   "cell_type": "markdown",
   "metadata": {},
   "source": [
    "# What is Machine Leaning\n",
    "\n",
    "Allows comp to learn & infer from data\n",
    "\n",
    "Examples: Spam Filtering, Web Search, Post Mail Routing, SociaL Networks, Speech Recognition, Web Ads\n",
    "\n",
    "Types: Supervised that deals with data points that have known outcome and Unsupervised that which have unknown outcome\n",
    "\n",
    "Supervised Learning: Regression(numerical outcome), Classification(outcome is category)"
   ]
  },
  {
   "cell_type": "markdown",
   "metadata": {},
   "source": [
    "## Vocab:\n",
    "\n",
    "Target - predicted category/value of data (column to predict)\n",
    "\n",
    "Features - properties of the data used for prediction (non-target columns)\n",
    "\n",
    "Example - a single data point within the data (one row) \n",
    "\n",
    "Label - the target value for a single data point"
   ]
  },
  {
   "cell_type": "markdown",
   "metadata": {},
   "source": [
    "## K-NEAREST NEIGHBORS: What is needed for classification\n",
    "\n",
    "Model data with features that can be quantitated and labels that are known.\n",
    "\n",
    "K-Nearest Neighbors as a method to measure similarity."
   ]
  },
  {
   "cell_type": "markdown",
   "metadata": {},
   "source": [
    "## Comparison of Feature Scaling Methods\n",
    "\n",
    "Standard Scaler: Mean center data and scale to unit variance \n",
    "Minimum-Maximum Scaler: Scale data to fixed range (usually 0–1) \n",
    "Maximum Absolute Value Scaler: Scale maximum absolute value\n",
    "\n",
    "##Feature Scaling: The Syntax\n",
    "\n",
    "Import the class containing the scaling method\n",
    "    \n",
    "    from sklearn.preprocessing import StandardScaler\n",
    "\n",
    "Create an instance of the class \n",
    "     \n",
    "     StdSc = StandardScaler()\n",
    "\n",
    "Fit the scaling parameters and then transform the data \n",
    "       StdSc = StdSc.fit(X_data)\n",
    "       \n",
    "       X_scaled = KNN.transform(X_data)\n",
    "\n",
    "Other scaling methods exist: MinMaxScaler, MaxAbsScaler.\n"
   ]
  },
  {
   "cell_type": "markdown",
   "metadata": {},
   "source": [
    "## Characteristics of a KNN Model\n",
    "\n",
    "Fast to create model because it simply stores data \n",
    "\n",
    "Slow to predict because many distance calculations \n",
    "\n",
    "Can require lots of memory if data set is larg"
   ]
  },
  {
   "cell_type": "markdown",
   "metadata": {},
   "source": [
    "## K Nearest Neighbors: The Syntax\n",
    "\n",
    "Import the class containing the classification method \n",
    "       \n",
    "    from sklearn.neighbors import KNeighborsClassifier\n",
    "\n",
    "Create an instance of the class \n",
    "     \n",
    "    KNN = KNeighborsClassifier(n_neighbors=3)\n",
    "\n",
    "Fit the instance on the data and then predict the expected value \n",
    "\n",
    "    KNN = KNN.fit(X_data, y_data)\n",
    "\n",
    "    y_predict = KNN.predict(X_data)\n",
    "    \n",
    "Regression can be done with KNeighborsRegressor."
   ]
  },
  {
   "cell_type": "code",
   "execution_count": null,
   "metadata": {},
   "outputs": [],
   "source": []
  }
 ],
 "metadata": {
  "kernelspec": {
   "display_name": "Python 3",
   "language": "python",
   "name": "python3"
  },
  "language_info": {
   "codemirror_mode": {
    "name": "ipython",
    "version": 3
   },
   "file_extension": ".py",
   "mimetype": "text/x-python",
   "name": "python",
   "nbconvert_exporter": "python",
   "pygments_lexer": "ipython3",
   "version": "3.7.3"
  }
 },
 "nbformat": 4,
 "nbformat_minor": 2
}
