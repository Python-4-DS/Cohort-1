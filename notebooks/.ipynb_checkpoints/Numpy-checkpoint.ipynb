{
 "cells": [
  {
   "cell_type": "markdown",
   "metadata": {},
   "source": [
    "# INTRODUCTION TO NUMPY"
   ]
  },
  {
   "cell_type": "markdown",
   "metadata": {},
   "source": [
    "## Numpy Arrays"
   ]
  },
  {
   "cell_type": "markdown",
   "metadata": {},
   "source": [
    "### Arrays from Python lists"
   ]
  },
  {
   "cell_type": "code",
   "execution_count": null,
   "metadata": {},
   "outputs": [],
   "source": [
    "import numpy as np\n",
    "\n",
    "# Create an array of integers\n",
    "np.array([1,2,3,4,5])"
   ]
  },
  {
   "cell_type": "markdown",
   "metadata": {},
   "source": [
    "### NB: Numpy is constrained to contain arrays of same type. If they are not, numpy upcasts them. Use the `dtype` keyword to explicitly typecast the arrays."
   ]
  },
  {
   "cell_type": "code",
   "execution_count": null,
   "metadata": {},
   "outputs": [],
   "source": [
    "np.array([1, 2, 3, 4], dtype='float32')"
   ]
  },
  {
   "cell_type": "code",
   "execution_count": null,
   "metadata": {},
   "outputs": [],
   "source": [
    "## Multidimensional array using a list of lists\n",
    "np.array([range(i, i + 3) for i in [2, 3, 4]])"
   ]
  },
  {
   "cell_type": "markdown",
   "metadata": {},
   "source": [
    "### Arrays from Scratch"
   ]
  },
  {
   "cell_type": "code",
   "execution_count": null,
   "metadata": {},
   "outputs": [],
   "source": [
    "# A length-10 integer array filled with zeros\n",
    "np.zeros(10, dtype='int')\n",
    "\n",
    "# Create a 3x5 floating-point array filled with ones\n",
    "np.ones((3, 5), dtype=np.float)\n",
    "\n",
    "# Create a 3x5 array filled with 3.14\n",
    "np.full((3, 5), 3.14)\n",
    "\n",
    "# Create an array filled with a linear sequence\n",
    "# Starting at 0, ending at 20, stepping by 2\n",
    "# (this is similar to the built-in range() function)\n",
    "\n",
    "np.arange(0, 20, 2)\n",
    "\n",
    "# Create an array of five values evenly spaced between 0 and 1\n",
    "np.linspace(0, 1, 5)\n",
    "\n",
    "# Create a 3x3 array of uniformly distributed\n",
    "# random values between 0 and 1\n",
    "\n",
    "np.random.random((3,3))\n",
    "\n",
    "# Create a 3x3 array of random integers in the interval [0, 10)\n",
    "np.random.randint(0, 10, (3, 3))\n",
    "\n",
    "# Create a 3x3 identity matrix\n",
    "np.eye(3, dtype='int')"
   ]
  },
  {
   "cell_type": "markdown",
   "metadata": {},
   "source": [
    "## Numpy Array Attributes"
   ]
  },
  {
   "cell_type": "code",
   "execution_count": null,
   "metadata": {},
   "outputs": [],
   "source": [
    "# Seed the Random number generator to ensure it produces same set of numbers on each call\n",
    "np.random.seed(0)\n",
    "\n",
    "# create 3 arrays, 1-dim, 2-dim and 3-dim of numbers between 1 and 10\n",
    "array1 = np.random.randint(10, size=6)\n",
    "array2 = np.random.randint(10, size=(3, 4))\n",
    "array3 = np.random.randint(10, size=(3, 4, 5))\n",
    "\n",
    "'''\n",
    "    The main attributes:\n",
    "        ndim - Number of dimensuins\n",
    "        shape - size of each dimension\n",
    "        size - total size of the array\n",
    "        dtype - data type of the array\n",
    "'''\n",
    "\n",
    "print(\"Array2 ndim: \", array2.ndim)\n",
    "print(\"Array2 shape: \", array2.shape)\n",
    "print(\"Array2 size: \", array2.size)\n",
    "print(\"Array2 dtype: \", array2.dtype)"
   ]
  },
  {
   "cell_type": "markdown",
   "metadata": {},
   "source": [
    "## Array Indexing - Accessing single array elements"
   ]
  },
  {
   "cell_type": "code",
   "execution_count": null,
   "metadata": {},
   "outputs": [],
   "source": [
    "# Access the first element in array 1\n",
    "print(array1)\n",
    "first_array1_element = array1[0]\n",
    "print(\"Array 1 first element: \", first_array1_element)\n",
    "\n",
    "# Access the first element in second row of array 2\n",
    "print(array2)\n",
    "array2_element = array2[0, 0]\n",
    "print(array2_element)"
   ]
  },
  {
   "cell_type": "markdown",
   "metadata": {},
   "source": [
    "## Array Slicing: Accesing sub-arrays"
   ]
  },
  {
   "cell_type": "code",
   "execution_count": null,
   "metadata": {},
   "outputs": [],
   "source": [
    "\"\"\"\n",
    "    uses slice notation ':'.\n",
    "    format: x[start, stop, step]\n",
    "\"\"\"\n",
    "# Initialize a 1-dim array\n",
    "x = np.arange(10)\n",
    "print(x)\n",
    "\n",
    "# Select first five elements\n",
    "print(\"First five elements: \", x[:5])\n",
    "\n",
    "# Elements after index 5\n",
    "print(\"Last five: \", x[5:])\n",
    "\n",
    "# Middle sub-array\n",
    "print(x[4:7])"
   ]
  },
  {
   "cell_type": "markdown",
   "metadata": {},
   "source": [
    "## Array copies"
   ]
  },
  {
   "cell_type": "code",
   "execution_count": null,
   "metadata": {},
   "outputs": [],
   "source": [
    "# When a sub array is created, it is not a copy of the original array, \n",
    "# its its view, meaning that any change made on the sub array refelects on the main array.\n",
    "\n",
    "print(\"Array 2: \\n\", array2)\n",
    "\n",
    "# Create a 2x2 sub array\n",
    "sub_array2 = array2[:2, :2]\n",
    "print(\"Sub array: \\n\", sub_array2)\n",
    "\n",
    "# Change any value in sub array\n",
    "sub_array2[0, 0] = 9\n",
    "print(\"New Sub array: \\n\", sub_array2)\n",
    "print(\"New main array: \\n\", array2)\n",
    "\n",
    "# To make an array copy which is not affected by any changes in the sub array, use the copy() fn.\n",
    "sub_array_copy = array2[:2, :2].copy()"
   ]
  },
  {
   "cell_type": "markdown",
   "metadata": {},
   "source": [
    "## Basic Ufuncs"
   ]
  },
  {
   "cell_type": "code",
   "execution_count": null,
   "metadata": {},
   "outputs": [],
   "source": [
    "# Functions that enable vectorization - A faster way than python loops\n",
    "\"\"\"\n",
    "    \n",
    "Operator\tEquivalent ufunc\tDescription\n",
    "+\tnp.add\tAddition (e.g., 1 + 1 = 2)\n",
    "-\tnp.subtract\tSubtraction (e.g., 3 - 2 = 1)\n",
    "-\tnp.negative\tUnary negation (e.g., -2)\n",
    "*\tnp.multiply\tMultiplication (e.g., 2 * 3 = 6)\n",
    "/\tnp.divide\tDivision (e.g., 3 / 2 = 1.5)\n",
    "//\tnp.floor_divide\tFloor division (e.g., 3 // 2 = 1)\n",
    "**\tnp.power\tExponentiation (e.g., 2 ** 3 = 8)\n",
    "%\tnp.mod\tModulus/remainder (e.g., 9 % 4 = 1)\n",
    "\"\"\"\n",
    "\n",
    "# More Ufuncs found on docs"
   ]
  },
  {
   "cell_type": "markdown",
   "metadata": {},
   "source": [
    "## Aggregations"
   ]
  },
  {
   "cell_type": "code",
   "execution_count": null,
   "metadata": {},
   "outputs": [],
   "source": [
    "\"\"\"\n",
    "    Aggregations are used to compute operations. This include sum, min, max, percentiles, median, standard deviation, \n",
    "    quartiles, etc.\n",
    "\"\"\""
   ]
  },
  {
   "cell_type": "markdown",
   "metadata": {},
   "source": [
    "## Broadcasting: \n",
    "### Computations on arrays of different sizes and dimensions"
   ]
  },
  {
   "cell_type": "code",
   "execution_count": null,
   "metadata": {},
   "outputs": [],
   "source": [
    "# A 3-dim array of integers an\n",
    "a = np.ones(shape=(3, 3), dtype=np.int)\n",
    "\n",
    "# 1-dim array\n",
    "b = np.array([1, 2, 3])\n",
    "\n",
    "print(\"array a: \\n\", a)\n",
    "print(\"array b: \\n\", b)\n",
    "\n",
    "# Adding array b to a scalar(0-dim array)\n",
    "print(\"b + 5 = \", b + 5)\n",
    "\n",
    "# Adding a to b\n",
    "ab = a + b\n",
    "print(\"a + b: \\n\", ab)"
   ]
  },
  {
   "cell_type": "markdown",
   "metadata": {},
   "source": [
    "## Array comparisons: boolean arrays and masks"
   ]
  },
  {
   "cell_type": "code",
   "execution_count": null,
   "metadata": {},
   "outputs": [],
   "source": [
    "# Same as operations, element-wise comparisons can be done, eg, greater than, less than, ...\n",
    "# comparisons return an array of booleans(true or false)\n",
    "# A 1-D array\n",
    "a = np.array([1, 2, 3, 5, 5])\n",
    "print(\"Array a: \", a)\n",
    "\n",
    "# Normal comparison\n",
    "print(\"comparison: \", a <= 3)\n",
    "\n",
    "# Equivalent Ufunc\n",
    "print(\"Ufunc comparison: \", np.less_equal(a, 3))\n",
    "\n",
    "# same case applies to 2-D and 3-D arrays."
   ]
  },
  {
   "cell_type": "markdown",
   "metadata": {},
   "source": [
    "## Masking"
   ]
  },
  {
   "cell_type": "code",
   "execution_count": null,
   "metadata": {},
   "outputs": [],
   "source": [
    "\"\"\" \n",
    "Instead of returning a boolean array(of True's and False's), We can return an array\n",
    "of the element matching the particular comparison.\n",
    "\"\"\"\n",
    "\n",
    "# A 2-D array\n",
    "rng = np.random.RandomState(0)\n",
    "x = rng.randint(10, size=(3, 4))\n",
    "print(\"x: \\n\", x)\n",
    "\n",
    "# Output all values less than 5\n",
    "print(\"Less than 5: \", x[x < 5])"
   ]
  },
  {
   "cell_type": "markdown",
   "metadata": {},
   "source": [
    "## NUMPY SORTING"
   ]
  },
  {
   "cell_type": "code",
   "execution_count": null,
   "metadata": {},
   "outputs": [],
   "source": [
    "# faster than python list sorting\n",
    "# Uses numpy .sort() and .argsort() uFuncs\n",
    "\n",
    "x = np.array([2, 1, 5, 4, 3])\n",
    "x_sorted = np.sort(x)\n",
    "print(\"sorted array: \", x_sorted)\n",
    "\n",
    "# .argsort() returns an array of sorted indices\n",
    "i = np.argsort(x)\n",
    "print(i)\n",
    "print(x[i])"
   ]
  },
  {
   "cell_type": "markdown",
   "metadata": {},
   "source": [
    "### More on numpy from the docs and also handbook"
   ]
  }
 ],
 "metadata": {
  "kernelspec": {
   "display_name": "Python 3",
   "language": "python",
   "name": "python3"
  },
  "language_info": {
   "codemirror_mode": {
    "name": "ipython",
    "version": 3
   },
   "file_extension": ".py",
   "mimetype": "text/x-python",
   "name": "python",
   "nbconvert_exporter": "python",
   "pygments_lexer": "ipython3",
   "version": "3.7.1"
  }
 },
 "nbformat": 4,
 "nbformat_minor": 2
}
