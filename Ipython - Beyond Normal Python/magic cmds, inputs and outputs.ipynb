{
 "cells": [
  {
   "cell_type": "code",
   "execution_count": 1,
   "metadata": {},
   "outputs": [],
   "source": [
    "def donothing(x):\n",
    "    return x"
   ]
  },
  {
   "cell_type": "code",
   "execution_count": 2,
   "metadata": {},
   "outputs": [],
   "source": [
    "def donothing(x):\n",
    "    return x"
   ]
  },
  {
   "cell_type": "code",
   "execution_count": 3,
   "metadata": {},
   "outputs": [
    {
     "name": "stderr",
     "output_type": "stream",
     "text": [
      "UsageError: Line magic function `%paste` not found.\n"
     ]
    }
   ],
   "source": [
    "%paste"
   ]
  },
  {
   "cell_type": "code",
   "execution_count": 14,
   "metadata": {},
   "outputs": [
    {
     "name": "stdout",
     "output_type": "stream",
     "text": [
      "Object `%cpaste` not found.\n"
     ]
    }
   ],
   "source": [
    "%cpaste?"
   ]
  },
  {
   "cell_type": "code",
   "execution_count": 5,
   "metadata": {},
   "outputs": [
    {
     "name": "stderr",
     "output_type": "stream",
     "text": [
      "UsageError: Line magic function `%?` not found.\n"
     ]
    }
   ],
   "source": [
    "%?"
   ]
  },
  {
   "cell_type": "code",
   "execution_count": 6,
   "metadata": {},
   "outputs": [
    {
     "name": "stderr",
     "output_type": "stream",
     "text": [
      "ERROR:root:File `'Help_&_Documentation.ipynb.py'` not found.\n"
     ]
    }
   ],
   "source": [
    "%run Help_&_Documentation.ipynb"
   ]
  },
  {
   "cell_type": "code",
   "execution_count": 7,
   "metadata": {},
   "outputs": [
    {
     "name": "stderr",
     "output_type": "stream",
     "text": [
      "ERROR:root:File `'meh.py'` not found.\n"
     ]
    }
   ],
   "source": [
    "%run meh.py"
   ]
  },
  {
   "cell_type": "code",
   "execution_count": 9,
   "metadata": {},
   "outputs": [
    {
     "name": "stdout",
     "output_type": "stream",
     "text": [
      "752 µs ± 62.7 µs per loop (mean ± std. dev. of 7 runs, 1000 loops each)\n"
     ]
    }
   ],
   "source": [
    "%timeit l=[n**2 for n in range(1000)]"
   ]
  },
  {
   "cell_type": "code",
   "execution_count": 10,
   "metadata": {},
   "outputs": [
    {
     "name": "stderr",
     "output_type": "stream",
     "text": [
      "UsageError: Line magic function `%TIMEIT` not found.\n"
     ]
    }
   ],
   "source": [
    "%TIMEIT"
   ]
  },
  {
   "cell_type": "code",
   "execution_count": 11,
   "metadata": {},
   "outputs": [],
   "source": [
    "%timeit"
   ]
  },
  {
   "cell_type": "code",
   "execution_count": 12,
   "metadata": {},
   "outputs": [],
   "source": [
    "%timeit?"
   ]
  },
  {
   "cell_type": "code",
   "execution_count": 13,
   "metadata": {},
   "outputs": [],
   "source": [
    "%magic"
   ]
  },
  {
   "cell_type": "code",
   "execution_count": 15,
   "metadata": {},
   "outputs": [],
   "source": [
    "import math"
   ]
  },
  {
   "cell_type": "code",
   "execution_count": 16,
   "metadata": {},
   "outputs": [
    {
     "data": {
      "text/plain": [
       "0.9092974268256817"
      ]
     },
     "execution_count": 16,
     "metadata": {},
     "output_type": "execute_result"
    }
   ],
   "source": [
    "math.sin(2)"
   ]
  },
  {
   "cell_type": "code",
   "execution_count": 17,
   "metadata": {},
   "outputs": [
    {
     "data": {
      "text/plain": [
       "-0.4161468365471424"
      ]
     },
     "execution_count": 17,
     "metadata": {},
     "output_type": "execute_result"
    }
   ],
   "source": [
    "math.cos(2)"
   ]
  },
  {
   "cell_type": "code",
   "execution_count": 19,
   "metadata": {},
   "outputs": [
    {
     "name": "stdout",
     "output_type": "stream",
     "text": [
      "['', 'def donothing(x):\\n    return x', 'def donothing(x):\\n    return x', \"get_ipython().run_line_magic('paste', '')\", \"get_ipython().run_line_magic('cpaste', '')\", \"get_ipython().run_line_magic('?', '')\", \"get_ipython().run_line_magic('run', 'Help_&_Documentation.ipynb')\", \"get_ipython().run_line_magic('run', 'meh.py')\", 'square(25)', \"get_ipython().run_line_magic('timeit', 'l=[n**2 for n in range(1000)]')\", \"get_ipython().run_line_magic('TIMEIT', '')\", \"get_ipython().run_line_magic('timeit', '')\", \"get_ipython().run_line_magic('pinfo', '%timeit')\", \"get_ipython().run_line_magic('magic', '')\", \"get_ipython().run_line_magic('pinfo', '%cpaste')\", 'import math', 'math.sin(2)', 'math.cos(2)', 'print(ln)', 'print(In)']\n"
     ]
    }
   ],
   "source": [
    "print(In)"
   ]
  },
  {
   "cell_type": "code",
   "execution_count": 20,
   "metadata": {},
   "outputs": [
    {
     "data": {
      "text/plain": [
       "{16: 0.9092974268256817, 17: -0.4161468365471424}"
      ]
     },
     "execution_count": 20,
     "metadata": {},
     "output_type": "execute_result"
    }
   ],
   "source": [
    "Out"
   ]
  },
  {
   "cell_type": "code",
   "execution_count": 21,
   "metadata": {},
   "outputs": [
    {
     "name": "stdout",
     "output_type": "stream",
     "text": [
      "def donothing(x):\n",
      "    return x\n"
     ]
    }
   ],
   "source": [
    "print(In[1])"
   ]
  },
  {
   "cell_type": "code",
   "execution_count": 22,
   "metadata": {},
   "outputs": [
    {
     "name": "stdout",
     "output_type": "stream",
     "text": [
      "def donothing(x):\n",
      "    return x\n"
     ]
    }
   ],
   "source": [
    "print(In[2])"
   ]
  },
  {
   "cell_type": "code",
   "execution_count": 23,
   "metadata": {},
   "outputs": [
    {
     "name": "stdout",
     "output_type": "stream",
     "text": [
      "get_ipython().run_line_magic('paste', '')\n"
     ]
    }
   ],
   "source": [
    "print(In[3])"
   ]
  },
  {
   "cell_type": "code",
   "execution_count": 24,
   "metadata": {},
   "outputs": [
    {
     "name": "stdout",
     "output_type": "stream",
     "text": [
      "get_ipython().run_line_magic('?', '')\n"
     ]
    }
   ],
   "source": [
    "print(In[5])"
   ]
  },
  {
   "cell_type": "code",
   "execution_count": 27,
   "metadata": {},
   "outputs": [
    {
     "name": "stdout",
     "output_type": "stream",
     "text": [
      "{16: 0.9092974268256817, 17: -0.4161468365471424}\n"
     ]
    }
   ],
   "source": [
    "print(Out)"
   ]
  },
  {
   "cell_type": "code",
   "execution_count": 37,
   "metadata": {},
   "outputs": [
    {
     "name": "stdout",
     "output_type": "stream",
     "text": [
      "-0.4161468365471424\n"
     ]
    }
   ],
   "source": [
    "print(_)"
   ]
  },
  {
   "cell_type": "code",
   "execution_count": 38,
   "metadata": {},
   "outputs": [
    {
     "name": "stdout",
     "output_type": "stream",
     "text": [
      "0.9092974268256817\n"
     ]
    }
   ],
   "source": [
    "print(__)"
   ]
  },
  {
   "cell_type": "code",
   "execution_count": 39,
   "metadata": {},
   "outputs": [
    {
     "name": "stdout",
     "output_type": "stream",
     "text": [
      "\n"
     ]
    }
   ],
   "source": [
    "print(___)"
   ]
  },
  {
   "cell_type": "code",
   "execution_count": 42,
   "metadata": {},
   "outputs": [],
   "source": [
    "math.sin(2)+math.cos(2);"
   ]
  },
  {
   "cell_type": "code",
   "execution_count": 43,
   "metadata": {},
   "outputs": [
    {
     "data": {
      "text/plain": [
       "False"
      ]
     },
     "execution_count": 43,
     "metadata": {},
     "output_type": "execute_result"
    }
   ],
   "source": [
    "14 in Out"
   ]
  },
  {
   "cell_type": "code",
   "execution_count": 44,
   "metadata": {},
   "outputs": [
    {
     "name": "stdout",
     "output_type": "stream",
     "text": [
      "def donothing(x):\n",
      "    return x\n",
      "def donothing(x):\n",
      "    return x\n",
      "%paste\n",
      "%cpaste\n",
      "%?\n",
      "%run Help_&_Documentation.ipynb\n",
      "%run meh.py\n",
      "square(25)\n",
      "%timeit l=[n**2 for n in range(1000)]\n",
      "%TIMEIT\n",
      "%timeit\n",
      "%timeit?\n",
      "%magic\n",
      "%cpaste?\n",
      "import math\n",
      "math.sin(2)\n",
      "math.cos(2)\n",
      "print(ln)\n",
      "print(In)\n",
      "Out\n",
      "print(In[1])\n",
      "print(In[2])\n",
      "print(In[3])\n",
      "print(In[5])\n",
      "print(Out[2])\n",
      "print(Out[1])\n",
      "print(Out)\n",
      "Out[2]**2+Out[3]**2\n",
      "Out**2+Out**2\n",
      "Out[1]**2+Out[1]**2\n",
      "Out[2]**2+Out[1]**2\n",
      "Out[3]**2+Out[4]**2\n",
      "Out[3]**2+Out[2]**2\n",
      "Out[3]**2+Out[4]**2\n",
      "Out[5]**2+Out[4]**2\n",
      "Out[5]**2+Out[6]**2\n",
      "print(_)\n",
      "print(__)\n",
      "print(___)\n",
      "_2\n",
      "_1\n",
      "math.sin(2)+math.cos(2);\n",
      "14 in Out\n",
      "%history\n"
     ]
    }
   ],
   "source": [
    "%history"
   ]
  },
  {
   "cell_type": "code",
   "execution_count": 45,
   "metadata": {},
   "outputs": [
    {
     "name": "stdout",
     "output_type": "stream",
     "text": [
      "   1:\n",
      "def donothing(x):\n",
      "    return x\n",
      "   2:\n",
      "def donothing(x):\n",
      "    return x\n",
      "   3: %paste\n",
      "   4: %cpaste\n"
     ]
    }
   ],
   "source": [
    "%history -n 1-4"
   ]
  },
  {
   "cell_type": "code",
   "execution_count": 46,
   "metadata": {},
   "outputs": [],
   "source": [
    "%history out"
   ]
  },
  {
   "cell_type": "code",
   "execution_count": null,
   "metadata": {},
   "outputs": [],
   "source": []
  }
 ],
 "metadata": {
  "kernelspec": {
   "display_name": "Python 3",
   "language": "python",
   "name": "python3"
  },
  "language_info": {
   "codemirror_mode": {
    "name": "ipython",
    "version": 3
   },
   "file_extension": ".py",
   "mimetype": "text/x-python",
   "name": "python",
   "nbconvert_exporter": "python",
   "pygments_lexer": "ipython3",
   "version": "3.7.3"
  }
 },
 "nbformat": 4,
 "nbformat_minor": 2
}
