{
 "cells": [
  {
   "cell_type": "code",
   "execution_count": 20,
   "metadata": {},
   "outputs": [
    {
     "name": "stdout",
     "output_type": "stream",
     "text": [
      "[[5 0 3 3 7 9]\n",
      " [3 5 2 4 7 6]\n",
      " [8 8 1 6 7 7]\n",
      " [8 1 5 9 8 9]]\n"
     ]
    },
    {
     "data": {
      "text/plain": [
       "array([[0, 3, 3, 5, 7, 9],\n",
       "       [2, 3, 4, 5, 7, 6],\n",
       "       [1, 6, 7, 8, 8, 7],\n",
       "       [1, 5, 8, 9, 8, 9]])"
      ]
     },
     "execution_count": 20,
     "metadata": {},
     "output_type": "execute_result"
    }
   ],
   "source": [
    "import numpy as np\n",
    "import random\n",
    "#Partial sorts:partitioning\n",
    "x = np.array([7,2,3,1,6,5,4])\n",
    "np.partition(x, 1)\n",
    "#partition alng an arbitrary order\n",
    "rand = np.random.RandomState(0)\n",
    "X = rand.randint(0, 10, (4, 6))\n",
    "print(X)\n",
    "np.partition(X, 2, axis=1)"
   ]
  },
  {
   "cell_type": "code",
   "execution_count": 24,
   "metadata": {},
   "outputs": [
    {
     "data": {
      "image/png": "[encoded data removed]",
      "text/plain": [
       "<Figure size 432x288 with 1 Axes>"
      ]
     },
     "metadata": {},
     "output_type": "display_data"
    }
   ],
   "source": [
    "X = rand.rand(10, 2)\n",
    "%matplotlib inline\n",
    "import matplotlib.pyplot as plt\n",
    "import seaborn; seaborn.set() #plot styling\n",
    "plt.scatter(X[:, 0], X[:, 1], s=100);"
   ]
  },
  {
   "cell_type": "code",
   "execution_count": 53,
   "metadata": {},
   "outputs": [
    {
     "name": "stdout",
     "output_type": "stream",
     "text": [
      "[[0 5 4 2 1 8 9 3 7 6]\n",
      " [1 4 5 7 0 8 2 9 3 6]\n",
      " [2 4 5 0 8 1 9 3 6 7]\n",
      " [3 9 6 8 1 7 2 4 5 0]\n",
      " [4 5 2 0 8 1 9 3 6 7]\n",
      " [5 4 0 2 8 1 9 3 6 7]\n",
      " [6 3 9 8 7 1 2 4 5 0]\n",
      " [7 1 9 6 3 8 4 5 2 0]\n",
      " [8 2 4 9 5 3 1 0 6 7]\n",
      " [9 3 6 8 1 7 2 4 5 0]]\n"
     ]
    }
   ],
   "source": [
    "dist_sq =np.sum((X[:,np.newaxis,:] - X[np.newaxis,:,:]) ** 2, axis=-1)\n",
    "#for each plot comput diff in coordinate\n",
    "differences = X[:, np.newaxis, :] - X[np.newaxis, :, :]\n",
    "differences.shape\n",
    "# square the coordinate differences\n",
    "sq_differences = differences ** 2\n",
    "sq_differences.shape\n",
    "# sum the coordinate differences to get the squared distance\n",
    "dist_sq = sq_differences.sum(-1)\n",
    "dist_sq.shape\n",
    "dist_sq.diagonal()\n",
    "nearest = np.argsort(dist_sq, axis=1)\n",
    "print(nearest)"
   ]
  }
 ],
 "metadata": {
  "kernelspec": {
   "display_name": "Python 3",
   "language": "python",
   "name": "python3"
  },
  "language_info": {
   "codemirror_mode": {
    "name": "ipython",
    "version": 3
   },
   "file_extension": ".py",
   "mimetype": "text/x-python",
   "name": "python",
   "nbconvert_exporter": "python",
   "pygments_lexer": "ipython3",
   "version": "3.7.1"
  }
 },
 "nbformat": 4,
 "nbformat_minor": 2
}
